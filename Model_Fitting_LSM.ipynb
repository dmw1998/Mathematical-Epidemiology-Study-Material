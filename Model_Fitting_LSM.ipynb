{
 "cells": [
  {
   "cell_type": "markdown",
   "metadata": {},
   "source": [
    "# Model Fitting -- Least Square Method"
   ]
  },
  {
   "cell_type": "code",
   "execution_count": 177,
   "metadata": {},
   "outputs": [],
   "source": [
    "import pandas as pd\n",
    "import numpy as np\n",
    "from scipy.optimize import minimize\n",
    "from scipy.optimize import fsolve\n",
    "from scipy.interpolate import interp1d\n",
    "import matplotlib.pyplot as plt"
   ]
  },
  {
   "cell_type": "markdown",
   "metadata": {},
   "source": [
    "## UK"
   ]
  },
  {
   "cell_type": "markdown",
   "metadata": {},
   "source": [
    "### Read data"
   ]
  },
  {
   "cell_type": "code",
   "execution_count": 178,
   "metadata": {},
   "outputs": [
    {
     "data": {
      "text/html": [
       "<div>\n",
       "<style scoped>\n",
       "    .dataframe tbody tr th:only-of-type {\n",
       "        vertical-align: middle;\n",
       "    }\n",
       "\n",
       "    .dataframe tbody tr th {\n",
       "        vertical-align: top;\n",
       "    }\n",
       "\n",
       "    .dataframe thead th {\n",
       "        text-align: right;\n",
       "    }\n",
       "</style>\n",
       "<table border=\"1\" class=\"dataframe\">\n",
       "  <thead>\n",
       "    <tr style=\"text-align: right;\">\n",
       "      <th></th>\n",
       "      <th>Age</th>\n",
       "      <th>Positive</th>\n",
       "      <th>Population</th>\n",
       "      <th>Seroprevalence</th>\n",
       "    </tr>\n",
       "  </thead>\n",
       "  <tbody>\n",
       "    <tr>\n",
       "      <th>0</th>\n",
       "      <td>0.5</td>\n",
       "      <td>31</td>\n",
       "      <td>206</td>\n",
       "      <td>0.150485</td>\n",
       "    </tr>\n",
       "    <tr>\n",
       "      <th>1</th>\n",
       "      <td>1.5</td>\n",
       "      <td>30</td>\n",
       "      <td>146</td>\n",
       "      <td>0.205479</td>\n",
       "    </tr>\n",
       "    <tr>\n",
       "      <th>2</th>\n",
       "      <td>2.5</td>\n",
       "      <td>34</td>\n",
       "      <td>168</td>\n",
       "      <td>0.202381</td>\n",
       "    </tr>\n",
       "    <tr>\n",
       "      <th>3</th>\n",
       "      <td>3.5</td>\n",
       "      <td>57</td>\n",
       "      <td>189</td>\n",
       "      <td>0.301587</td>\n",
       "    </tr>\n",
       "    <tr>\n",
       "      <th>4</th>\n",
       "      <td>4.5</td>\n",
       "      <td>95</td>\n",
       "      <td>219</td>\n",
       "      <td>0.433790</td>\n",
       "    </tr>\n",
       "  </tbody>\n",
       "</table>\n",
       "</div>"
      ],
      "text/plain": [
       "   Age  Positive  Population  Seroprevalence\n",
       "0  0.5        31         206        0.150485\n",
       "1  1.5        30         146        0.205479\n",
       "2  2.5        34         168        0.202381\n",
       "3  3.5        57         189        0.301587\n",
       "4  4.5        95         219        0.433790"
      ]
     },
     "execution_count": 178,
     "metadata": {},
     "output_type": "execute_result"
    }
   ],
   "source": [
    "T_uk = pd.read_csv('seroprevalence_uk.csv', header=None)\n",
    "T_uk.columns = ['Age','Positive','Population']\n",
    "T_uk['Seroprevalence'] = T_uk['Positive']/T_uk['Population']\n",
    "T_uk.head()"
   ]
  },
  {
   "cell_type": "markdown",
   "metadata": {},
   "source": [
    "### Initial guess"
   ]
  },
  {
   "cell_type": "code",
   "execution_count": 179,
   "metadata": {},
   "outputs": [
    {
     "data": {
      "text/plain": [
       "0.10920847363077778"
      ]
     },
     "execution_count": 179,
     "metadata": {},
     "output_type": "execute_result"
    }
   ],
   "source": [
    "theta_0 = 0.12\n",
    "\n",
    "z_uk = 1 - np.exp(-theta_0*T_uk['Age'])\n",
    "\n",
    "LSM_error = sum((z_uk-T_uk['Seroprevalence'])**2)\n",
    "LSM_error"
   ]
  },
  {
   "cell_type": "markdown",
   "metadata": {},
   "source": [
    "### Least square method"
   ]
  },
  {
   "cell_type": "code",
   "execution_count": 180,
   "metadata": {},
   "outputs": [
    {
     "data": {
      "text/plain": [
       "array([0.12225])"
      ]
     },
     "execution_count": 180,
     "metadata": {},
     "output_type": "execute_result"
    }
   ],
   "source": [
    "LSM_func_uk = lambda theta: sum(((1-np.exp(-theta*T_uk['Age']))-T_uk['Seroprevalence'])**2)\n",
    "result = minimize(LSM_func_uk, theta_0, method='Nelder-Mead');\n",
    "best_theta = result.x\n",
    "best_theta"
   ]
  },
  {
   "cell_type": "code",
   "execution_count": 181,
   "metadata": {},
   "outputs": [],
   "source": [
    "time_stamp = np.linspace(T_uk['Age'][0],T_uk['Age'][len(T_uk['Age'])-1],400)\n",
    "y_uk = 1 - np.exp(-best_theta*time_stamp)"
   ]
  },
  {
   "cell_type": "code",
   "execution_count": 182,
   "metadata": {},
   "outputs": [
    {
     "data": {
      "image/png": "[encoded data removed]",
      "text/plain": [
       "<Figure size 432x288 with 1 Axes>"
      ]
     },
     "metadata": {
      "needs_background": "light"
     },
     "output_type": "display_data"
    }
   ],
   "source": [
    "plt.scatter(T_uk['Age'],T_uk['Seroprevalence']);\n",
    "plt.plot(time_stamp,y_uk,'r');\n",
    "plt.grid()"
   ]
  },
  {
   "cell_type": "markdown",
   "metadata": {},
   "source": [
    "### Average age at infection"
   ]
  },
  {
   "cell_type": "code",
   "execution_count": 183,
   "metadata": {},
   "outputs": [
    {
     "data": {
      "text/plain": [
       "array([8.1799591])"
      ]
     },
     "execution_count": 183,
     "metadata": {},
     "output_type": "execute_result"
    }
   ],
   "source": [
    "A_uk = 1/best_theta\n",
    "A_uk"
   ]
  },
  {
   "cell_type": "markdown",
   "metadata": {},
   "source": [
    "### Basic reproduction number"
   ]
  },
  {
   "cell_type": "code",
   "execution_count": 184,
   "metadata": {},
   "outputs": [
    {
     "data": {
      "text/plain": [
       "array([7.335])"
      ]
     },
     "execution_count": 184,
     "metadata": {},
     "output_type": "execute_result"
    }
   ],
   "source": [
    "L = 60          # 60 years old\n",
    "R0_uk = L/A_uk\n",
    "R0_uk"
   ]
  },
  {
   "cell_type": "markdown",
   "metadata": {},
   "source": [
    "### Herd immunity thershold"
   ]
  },
  {
   "cell_type": "code",
   "execution_count": 185,
   "metadata": {},
   "outputs": [
    {
     "data": {
      "text/plain": [
       "array([0.86366735])"
      ]
     },
     "execution_count": 185,
     "metadata": {},
     "output_type": "execute_result"
    }
   ],
   "source": [
    "H_uk = 1 - 1/R0_uk\n",
    "H_uk"
   ]
  },
  {
   "cell_type": "markdown",
   "metadata": {},
   "source": [
    "## China\n"
   ]
  },
  {
   "cell_type": "markdown",
   "metadata": {},
   "source": [
    "### Read data\n"
   ]
  },
  {
   "cell_type": "code",
   "execution_count": 186,
   "metadata": {},
   "outputs": [
    {
     "data": {
      "text/html": [
       "<div>\n",
       "<style scoped>\n",
       "    .dataframe tbody tr th:only-of-type {\n",
       "        vertical-align: middle;\n",
       "    }\n",
       "\n",
       "    .dataframe tbody tr th {\n",
       "        vertical-align: top;\n",
       "    }\n",
       "\n",
       "    .dataframe thead th {\n",
       "        text-align: right;\n",
       "    }\n",
       "</style>\n",
       "<table border=\"1\" class=\"dataframe\">\n",
       "  <thead>\n",
       "    <tr style=\"text-align: right;\">\n",
       "      <th></th>\n",
       "      <th>Age</th>\n",
       "      <th>Positive</th>\n",
       "      <th>Population</th>\n",
       "      <th>Seroprevalence</th>\n",
       "    </tr>\n",
       "  </thead>\n",
       "  <tbody>\n",
       "    <tr>\n",
       "      <th>0</th>\n",
       "      <td>0.5</td>\n",
       "      <td>264</td>\n",
       "      <td>766</td>\n",
       "      <td>0.344648</td>\n",
       "    </tr>\n",
       "    <tr>\n",
       "      <th>1</th>\n",
       "      <td>2.0</td>\n",
       "      <td>270</td>\n",
       "      <td>644</td>\n",
       "      <td>0.419255</td>\n",
       "    </tr>\n",
       "    <tr>\n",
       "      <th>2</th>\n",
       "      <td>3.0</td>\n",
       "      <td>371</td>\n",
       "      <td>652</td>\n",
       "      <td>0.569018</td>\n",
       "    </tr>\n",
       "    <tr>\n",
       "      <th>3</th>\n",
       "      <td>4.0</td>\n",
       "      <td>443</td>\n",
       "      <td>698</td>\n",
       "      <td>0.634670</td>\n",
       "    </tr>\n",
       "    <tr>\n",
       "      <th>4</th>\n",
       "      <td>5.0</td>\n",
       "      <td>532</td>\n",
       "      <td>723</td>\n",
       "      <td>0.735823</td>\n",
       "    </tr>\n",
       "  </tbody>\n",
       "</table>\n",
       "</div>"
      ],
      "text/plain": [
       "   Age  Positive  Population  Seroprevalence\n",
       "0  0.5       264         766        0.344648\n",
       "1  2.0       270         644        0.419255\n",
       "2  3.0       371         652        0.569018\n",
       "3  4.0       443         698        0.634670\n",
       "4  5.0       532         723        0.735823"
      ]
     },
     "execution_count": 186,
     "metadata": {},
     "output_type": "execute_result"
    }
   ],
   "source": [
    "T_ch = pd.read_csv('seroprevalence_china.csv', header=None)\n",
    "T_ch.columns = ['Age','Positive','Population']\n",
    "T_ch['Seroprevalence'] = T_ch['Positive']/T_ch['Population']\n",
    "T_ch.head()\n"
   ]
  },
  {
   "cell_type": "markdown",
   "metadata": {},
   "source": [
    "### Initial guess\n"
   ]
  },
  {
   "cell_type": "code",
   "execution_count": 187,
   "metadata": {},
   "outputs": [
    {
     "data": {
      "text/plain": [
       "0.4483167576800016"
      ]
     },
     "execution_count": 187,
     "metadata": {},
     "output_type": "execute_result"
    }
   ],
   "source": [
    "theta_0 = 0.12\n",
    "\n",
    "z_ch = 1 - np.exp(-theta_0*T_ch['Age'])\n",
    "\n",
    "LSM_error = sum((z_ch-T_ch['Seroprevalence'])**2)\n",
    "LSM_error\n"
   ]
  },
  {
   "cell_type": "markdown",
   "metadata": {},
   "source": [
    "### Least square method\n"
   ]
  },
  {
   "cell_type": "code",
   "execution_count": 188,
   "metadata": {},
   "outputs": [
    {
     "data": {
      "text/plain": [
       "array([0.27890625])"
      ]
     },
     "execution_count": 188,
     "metadata": {},
     "output_type": "execute_result"
    }
   ],
   "source": [
    "LSM_func_ch = lambda theta: sum(((1-np.exp(-theta*T_ch['Age']))-T_ch['Seroprevalence'])**2)\n",
    "result = minimize(LSM_func_ch, theta_0, method='Nelder-Mead');\n",
    "best_theta = result.x\n",
    "best_theta\n"
   ]
  },
  {
   "cell_type": "code",
   "execution_count": 189,
   "metadata": {},
   "outputs": [],
   "source": [
    "time_stamp = np.linspace(T_ch['Age'][0],T_ch['Age'][len(T_ch['Age'])-1],400)\n",
    "y_ch = 1 - np.exp(-best_theta*time_stamp)\n"
   ]
  },
  {
   "cell_type": "code",
   "execution_count": 190,
   "metadata": {},
   "outputs": [
    {
     "data": {
      "image/png": "[encoded data removed]",
      "text/plain": [
       "<Figure size 432x288 with 1 Axes>"
      ]
     },
     "metadata": {
      "needs_background": "light"
     },
     "output_type": "display_data"
    }
   ],
   "source": [
    "plt.scatter(T_ch['Age'],T_ch['Seroprevalence']);\n",
    "plt.plot(time_stamp,y_ch,'r');\n",
    "plt.grid()\n"
   ]
  },
  {
   "cell_type": "markdown",
   "metadata": {},
   "source": [
    "### Average age at infection\n"
   ]
  },
  {
   "cell_type": "code",
   "execution_count": 191,
   "metadata": {},
   "outputs": [
    {
     "data": {
      "text/plain": [
       "array([3.58543417])"
      ]
     },
     "execution_count": 191,
     "metadata": {},
     "output_type": "execute_result"
    }
   ],
   "source": [
    "A_ch = 1/best_theta\n",
    "A_ch\n"
   ]
  },
  {
   "cell_type": "markdown",
   "metadata": {},
   "source": [
    "### Basic reproduction number\n"
   ]
  },
  {
   "cell_type": "code",
   "execution_count": 192,
   "metadata": {},
   "outputs": [
    {
     "data": {
      "text/plain": [
       "array([16.734375])"
      ]
     },
     "execution_count": 192,
     "metadata": {},
     "output_type": "execute_result"
    }
   ],
   "source": [
    "L = 60          # 60 years old\n",
    "R0_ch = L/A_ch\n",
    "R0_ch\n"
   ]
  },
  {
   "cell_type": "markdown",
   "metadata": {},
   "source": [
    "### Herd immunity thershold\n"
   ]
  },
  {
   "cell_type": "code",
   "execution_count": 193,
   "metadata": {},
   "outputs": [
    {
     "data": {
      "text/plain": [
       "array([0.94024276])"
      ]
     },
     "execution_count": 193,
     "metadata": {},
     "output_type": "execute_result"
    }
   ],
   "source": [
    "H_ch = 1 - 1/R0_ch\n",
    "H_ch"
   ]
  },
  {
   "cell_type": "markdown",
   "metadata": {},
   "source": [
    "## First 6 month with maternal antibodies"
   ]
  },
  {
   "cell_type": "markdown",
   "metadata": {},
   "source": [
    "### UK"
   ]
  },
  {
   "cell_type": "code",
   "execution_count": 194,
   "metadata": {},
   "outputs": [
    {
     "data": {
      "text/plain": [
       "array([0.1305])"
      ]
     },
     "execution_count": 194,
     "metadata": {},
     "output_type": "execute_result"
    }
   ],
   "source": [
    "maternal_uk = lambda theta : sum(((1-np.exp(-theta*(T_uk['Age']-0.5)))-T_uk['Seroprevalence'])**2)\n",
    "result_m = minimize(maternal_uk, theta_0, method='Nelder-Mead');\n",
    "best_theta_m = result_m.x\n",
    "best_theta_m"
   ]
  },
  {
   "cell_type": "code",
   "execution_count": 195,
   "metadata": {},
   "outputs": [],
   "source": [
    "time_stamp = np.linspace(T_uk['Age'][0],T_uk['Age'][len(T_uk['Age'])-1],400)\n",
    "y_uk2 = 1 - np.exp(-best_theta_m*(time_stamp-0.5))"
   ]
  },
  {
   "cell_type": "code",
   "execution_count": 196,
   "metadata": {},
   "outputs": [],
   "source": [
    "maternal_x = np.linspace(0,0.5,181)\n",
    "maternal_y = np.linspace(1,y_uk2[0],181)"
   ]
  },
  {
   "cell_type": "code",
   "execution_count": 197,
   "metadata": {},
   "outputs": [
    {
     "data": {
      "text/plain": [
       "0.5"
      ]
     },
     "execution_count": 197,
     "metadata": {},
     "output_type": "execute_result"
    }
   ],
   "source": [
    "maternal_x[180]"
   ]
  },
  {
   "cell_type": "code",
   "execution_count": 198,
   "metadata": {},
   "outputs": [
    {
     "data": {
      "image/png": "[encoded data removed]",
      "text/plain": [
       "<Figure size 432x288 with 1 Axes>"
      ]
     },
     "metadata": {
      "needs_background": "light"
     },
     "output_type": "display_data"
    }
   ],
   "source": [
    "plt.scatter(T_uk['Age'],T_uk['Seroprevalence']);\n",
    "plt.plot(maternal_x,maternal_y,'r');\n",
    "plt.plot(time_stamp,y_uk2,'r')\n",
    "plt.grid()"
   ]
  },
  {
   "cell_type": "code",
   "execution_count": 199,
   "metadata": {},
   "outputs": [],
   "source": [
    "xx = np.concatenate(([0],T_uk['Age']))\n",
    "yy = np.concatenate(([1],1 - np.exp(-best_theta_m*(T_uk['Age']-0.5))))"
   ]
  },
  {
   "cell_type": "code",
   "execution_count": 200,
   "metadata": {},
   "outputs": [
    {
     "data": {
      "image/png": "[encoded data removed]",
      "text/plain": [
       "<Figure size 432x288 with 1 Axes>"
      ]
     },
     "metadata": {
      "needs_background": "light"
     },
     "output_type": "display_data"
    }
   ],
   "source": [
    "f = interp1d(xx,yy,kind='linear')\n",
    "x_new = np.linspace(0,T_uk['Age'][len(T_uk['Age'])-1])\n",
    "y_new = f(x_new)\n",
    "plt.scatter(T_uk['Age'],T_uk['Seroprevalence']);\n",
    "plt.plot(x_new,y_new,'r');"
   ]
  },
  {
   "cell_type": "code",
   "execution_count": 201,
   "metadata": {},
   "outputs": [],
   "source": [
    "def maternal_fun(x):\n",
    "    return np.exp(-2*x)\n",
    "\n",
    "def maternal_uk_fun(x):\n",
    "    y = 1 - np.exp(-best_theta_m*(x-0.5))\n",
    "    return y\n",
    "\n",
    "def fanning_func(x):\n",
    "    sigma =  1. / (1 + np.exp(-(x-0.2) / 0.0051))\n",
    "    f = (1-sigma) * maternal_fun(x) + sigma * maternal_uk_fun(x)\n",
    "    return f"
   ]
  },
  {
   "cell_type": "code",
   "execution_count": 202,
   "metadata": {},
   "outputs": [
    {
     "data": {
      "image/png": "[encoded data removed]",
      "text/plain": [
       "<Figure size 432x288 with 1 Axes>"
      ]
     },
     "metadata": {
      "needs_background": "light"
     },
     "output_type": "display_data"
    }
   ],
   "source": [
    "y_new = fanning_func(x_new)\n",
    "plt.scatter(T_uk['Age'],T_uk['Seroprevalence']);\n",
    "plt.plot(x_new,y_new,'r');"
   ]
  }
 ],
 "metadata": {
  "interpreter": {
   "hash": "e61969d64e659d56b566b49e95608b59d33e8bf43d6e24569b9967df51d58b52"
  },
  "kernelspec": {
   "display_name": "Python 3.10.0 64-bit",
   "language": "python",
   "name": "python3"
  },
  "language_info": {
   "codemirror_mode": {
    "name": "ipython",
    "version": 3
   },
   "file_extension": ".py",
   "mimetype": "text/x-python",
   "name": "python",
   "nbconvert_exporter": "python",
   "pygments_lexer": "ipython3",
   "version": "3.10.0"
  },
  "orig_nbformat": 4
 },
 "nbformat": 4,
 "nbformat_minor": 2
}
